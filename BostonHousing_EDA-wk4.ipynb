{
 "cells": [
  {
   "cell_type": "code",
   "execution_count": 1,
   "metadata": {
    "collapsed": false
   },
   "outputs": [
    {
     "name": "stderr",
     "output_type": "stream",
     "text": [
      ":0: FutureWarning: IPython widgets are experimental and may change in the future.\n"
     ]
    }
   ],
   "source": [
    "# import libraries \n",
    "import pandas as pd\n",
    "import numpy as np\n",
    "import seaborn\n",
    "import matplotlib.pyplot as plt\n",
    "%matplotlib inline"
   ]
  },
  {
   "cell_type": "code",
   "execution_count": 2,
   "metadata": {
    "collapsed": false
   },
   "outputs": [],
   "source": [
    "# Read housing data set csv into memory\n",
    "data=pd.read_csv(\"../data/Boston_housing_data.csv\",low_memory='False')\n",
    "\n",
    "# bug fix for display formats to avoid run time errors\n",
    "pd.set_option('display.float_format', lambda x:'%f'%x)"
   ]
  },
  {
   "cell_type": "code",
   "execution_count": 8,
   "metadata": {
    "collapsed": false
   },
   "outputs": [
    {
     "name": "stdout",
     "output_type": "stream",
     "text": [
      "Number of rows in data set -  506\n",
      "Number of features in data set -  14\n",
      "      CRIM        ZN    INDUS CHAS      NOX       RM        AGE      DIS RAD  \\\n",
      "0 0.006320 18.000000 2.310000    0 0.538000 6.575000  65.200000 4.090000   1   \n",
      "1 0.027310  0.000000 7.070000    0 0.469000 6.421000  78.900000 4.967100   2   \n",
      "2 0.027290  0.000000 7.070000    0 0.469000 7.185000  61.100000 4.967100   2   \n",
      "3 0.032370  0.000000 2.180000    0 0.458000 6.998000  45.800000 6.062200   3   \n",
      "4 0.069050  0.000000 2.180000    0 0.458000 7.147000  54.200000 6.062200   3   \n",
      "5 0.029850  0.000000 2.180000    0 0.458000 6.430000  58.700000 6.062200   3   \n",
      "6 0.088290 12.500000 7.870000    0 0.524000 6.012000  66.600000 5.560500   5   \n",
      "7 0.144550 12.500000 7.870000    0 0.524000 6.172000  96.100000 5.950500   5   \n",
      "8 0.211240 12.500000 7.870000    0 0.524000 5.631000 100.000000 6.082100   5   \n",
      "9 0.170040 12.500000 7.870000    0 0.524000 6.004000  85.900000 6.592100   5   \n",
      "\n",
      "   TAX   PTRATIO          B     LSTAT      MEDV  \n",
      "0  296 15.300000 396.900000  4.980000 24.000000  \n",
      "1  242 17.800000 396.900000  9.140000 21.600000  \n",
      "2  242 17.800000 392.830000  4.030000 34.700000  \n",
      "3  222 18.700000 394.630000  2.940000 33.400000  \n",
      "4  222 18.700000 396.900000  5.330000 36.200000  \n",
      "5  222 18.700000 394.120000  5.210000 28.700000  \n",
      "6  311 15.200000 395.600000 12.430000 22.900000  \n",
      "7  311 15.200000 396.900000 19.150000 27.100000  \n",
      "8  311 15.200000 386.630000 29.930000 16.500000  \n",
      "9  311 15.200000 386.710000 17.100000 18.900000  \n"
     ]
    },
    {
     "data": {
      "text/plain": [
       "count     506\n",
       "unique      9\n",
       "top        24\n",
       "freq      132\n",
       "Name: RAD, dtype: int64"
      ]
     },
     "execution_count": 8,
     "metadata": {},
     "output_type": "execute_result"
    }
   ],
   "source": [
    "# Upper case all data frame column names\n",
    "data.columns=map(str.upper, data.columns)\n",
    "\n",
    "#check dimensions of data set\n",
    "(rows,features)= data.shape\n",
    "print \"Number of rows in data set - \", rows\n",
    "print \"Number of features in data set - \",features\n",
    "print data.head(10)\n",
    "#convert RAD and CHAS to categoric type\n",
    "data['RAD']=data['RAD'].astype('category')\n",
    "data['CHAS']=data['CHAS'].astype('category')\n",
    "data.describe()\n",
    "data['CHAS'].describe()\n",
    "data['RAD'].describe()"
   ]
  },
  {
   "cell_type": "markdown",
   "metadata": {},
   "source": [
    " Attribute Information:\n",
    "\n",
    "    1. CRIM      per capita crime rate by town\n",
    "    2. ZN        proportion of residential land zoned for lots over \n",
    "                 25,000 sq.ft.\n",
    "    3. INDUS     proportion of non-retail business acres per town\n",
    "    4. CHAS      Charles River dummy variable (= 1 if tract bounds \n",
    "                 river; 0 otherwise)\n",
    "    5. NOX       nitric oxides concentration (parts per 10 million)\n",
    "    6. RM        average number of rooms per dwelling\n",
    "    7. AGE       proportion of owner-occupied units built prior to 1940\n",
    "    8. DIS       weighted distances to five Boston employment centres\n",
    "    9. RAD       index of accessibility to radial highways\n",
    "    10. TAX      full-value property-tax rate per $10,000\n",
    "    11. PTRATIO  pupil-teacher ratio by town\n",
    "    12. B        1000(Bk - 0.63)^2 where Bk is the proportion of blacks \n",
    "                 by town\n",
    "    13. LSTAT    % lower status of the population\n",
    "    14. MEDV     Median value of owner-occupied homes in $1000's"
   ]
  },
  {
   "cell_type": "code",
   "execution_count": 26,
   "metadata": {
    "collapsed": false
   },
   "outputs": [
    {
     "name": "stdout",
     "output_type": "stream",
     "text": [
      "Index([u'CRIM', u'ZN', u'INDUS', u'CHAS', u'NOX', u'RM', u'AGE', u'DIS',\n",
      "       u'RAD', u'TAX', u'PTRATIO', u'B', u'LSTAT', u'MEDV'],\n",
      "      dtype='object')\n"
     ]
    }
   ],
   "source": [
    "print data.columns"
   ]
  },
  {
   "cell_type": "code",
   "execution_count": 5,
   "metadata": {
    "collapsed": false
   },
   "outputs": [
    {
     "name": "stdout",
     "output_type": "stream",
     "text": [
      " current data set dimensions (506, 9)\n"
     ]
    }
   ],
   "source": [
    "# As part of my research, I'm interested in seeing the correlation between MEDV and \n",
    "# proximity from schools, employment centres \n",
    "# Pollution levels and social status\n",
    "'''\n",
    "Output variable\n",
    "-----------------\n",
    "MEDV     Median value of owner-occupied homes in $1000's\n",
    "\n",
    "Features I'm interested in : \n",
    "==============================================================\n",
    "\n",
    "NOX       nitric oxides concentration (parts per 10 million)\n",
    "RAD       index of accessibility to radial highways\n",
    "CHAS      Charles River dummy variable (= 1 if tract bounds \n",
    "                 river; 0 otherwise)\n",
    "DIS       weighted distances to five Boston employment centres\n",
    "PTRATIO  pupil-teacher ratio by town\n",
    "LSTAT    % lower status of the population\n",
    "==============================================================\n",
    "\n",
    "Features which directly impact house value:\n",
    "------------------------------------------------\n",
    "RM        average number of rooms per dwelling\n",
    "AGE       proportion of owner-occupied units built prior to 1940\n",
    "\n",
    "\n",
    "'''\n",
    "\n",
    "data = data [[\"MEDV\",\"NOX\",\"RAD\",\"CHAS\",\"DIS\",\"PTRATIO\",\"LSTAT\",\"RM\",\"AGE\"]]\n",
    "\n",
    "print \" current data set dimensions\", data.shape"
   ]
  },
  {
   "cell_type": "code",
   "execution_count": 6,
   "metadata": {
    "collapsed": false
   },
   "outputs": [],
   "source": [
    "#setting variables you will be working with to numeric\n",
    "data['MEDV'] = pd.to_numeric(data['MEDV'])\n",
    "data['NOX'] = pd.to_numeric(data['NOX'])\n",
    "# data['RAD'] = pd.to_numeric(data['RAD'])\n",
    "# data['CHAS'] = pd.to_numeric(data['CHAS'])\n",
    "data['DIS'] = pd.to_numeric(data['DIS'])\n",
    "data['PTRATIO'] = pd.to_numeric(data['PTRATIO'])\n",
    "data['LSTAT'] = pd.to_numeric(data['LSTAT'])\n",
    "data['RM'] = pd.to_numeric(data['RM'])\n",
    "data['AGE'] = pd.to_numeric(data['AGE'])"
   ]
  },
  {
   "cell_type": "markdown",
   "metadata": {},
   "source": [
    "## UniVariate Analysis"
   ]
  },
  {
   "cell_type": "markdown",
   "metadata": {},
   "source": [
    "***Continuous Explanatory Variable - NOX***"
   ]
  },
  {
   "cell_type": "code",
   "execution_count": 7,
   "metadata": {
    "collapsed": false
   },
   "outputs": [
    {
     "name": "stdout",
     "output_type": "stream",
     "text": [
      "\n",
      "** Frequency ditribution of NOX feature **\n",
      "0.385000     1\n",
      "0.389000     1\n",
      "0.392000     2\n",
      "0.394000     1\n",
      "0.398000     2\n",
      "0.400000     4\n",
      "0.401000     3\n",
      "0.403000     3\n",
      "0.404000     3\n",
      "0.405000     3\n",
      "0.409000     3\n",
      "0.410000     3\n",
      "0.411000     6\n",
      "0.413000     6\n",
      "0.415000     2\n",
      "0.416100     3\n",
      "0.422000     1\n",
      "0.426000     4\n",
      "0.428000     8\n",
      "0.429000     3\n",
      "0.431000    10\n",
      "0.433000     3\n",
      "0.435000     1\n",
      "0.437000    17\n",
      "0.437900     2\n",
      "0.439000     4\n",
      "0.442000     3\n",
      "0.442900     4\n",
      "0.445000     5\n",
      "0.447000     5\n",
      "            ..\n",
      "0.538000    23\n",
      "0.544000    12\n",
      "0.547000     9\n",
      "0.550000     4\n",
      "0.573000     5\n",
      "0.575000     2\n",
      "0.580000     4\n",
      "0.581000     7\n",
      "0.583000     4\n",
      "0.584000     8\n",
      "0.585000     8\n",
      "0.597000     6\n",
      "0.605000    14\n",
      "0.609000     5\n",
      "0.614000     7\n",
      "0.624000    15\n",
      "0.631000     5\n",
      "0.647000    10\n",
      "0.655000     3\n",
      "0.659000     2\n",
      "0.668000     3\n",
      "0.671000     7\n",
      "0.679000     8\n",
      "0.693000    14\n",
      "0.700000    11\n",
      "0.713000    18\n",
      "0.718000     6\n",
      "0.740000    13\n",
      "0.770000     8\n",
      "0.871000    16\n",
      "Name: NOX, dtype: int64\n",
      "Percentages for NOX\n"
     ]
    },
    {
     "data": {
      "text/plain": [
       "0.385000   0.001976\n",
       "0.389000   0.001976\n",
       "0.392000   0.003953\n",
       "0.394000   0.001976\n",
       "0.398000   0.003953\n",
       "0.400000   0.007905\n",
       "0.401000   0.005929\n",
       "0.403000   0.005929\n",
       "0.404000   0.005929\n",
       "0.405000   0.005929\n",
       "0.409000   0.005929\n",
       "0.410000   0.005929\n",
       "0.411000   0.011858\n",
       "0.413000   0.011858\n",
       "0.415000   0.003953\n",
       "0.416100   0.005929\n",
       "0.422000   0.001976\n",
       "0.426000   0.007905\n",
       "0.428000   0.015810\n",
       "0.429000   0.005929\n",
       "0.431000   0.019763\n",
       "0.433000   0.005929\n",
       "0.435000   0.001976\n",
       "0.437000   0.033597\n",
       "0.437900   0.003953\n",
       "0.439000   0.007905\n",
       "0.442000   0.005929\n",
       "0.442900   0.007905\n",
       "0.445000   0.009881\n",
       "0.447000   0.009881\n",
       "             ...   \n",
       "0.538000   0.045455\n",
       "0.544000   0.023715\n",
       "0.547000   0.017787\n",
       "0.550000   0.007905\n",
       "0.573000   0.009881\n",
       "0.575000   0.003953\n",
       "0.580000   0.007905\n",
       "0.581000   0.013834\n",
       "0.583000   0.007905\n",
       "0.584000   0.015810\n",
       "0.585000   0.015810\n",
       "0.597000   0.011858\n",
       "0.605000   0.027668\n",
       "0.609000   0.009881\n",
       "0.614000   0.013834\n",
       "0.624000   0.029644\n",
       "0.631000   0.009881\n",
       "0.647000   0.019763\n",
       "0.655000   0.005929\n",
       "0.659000   0.003953\n",
       "0.668000   0.005929\n",
       "0.671000   0.013834\n",
       "0.679000   0.015810\n",
       "0.693000   0.027668\n",
       "0.700000   0.021739\n",
       "0.713000   0.035573\n",
       "0.718000   0.011858\n",
       "0.740000   0.025692\n",
       "0.770000   0.015810\n",
       "0.871000   0.031621\n",
       "Name: NOX, dtype: float64"
      ]
     },
     "execution_count": 7,
     "metadata": {},
     "output_type": "execute_result"
    }
   ],
   "source": [
    "# NOX indicates nitric oxides concentration - parts per 10 million\n",
    "# This being an indicator of pollution level, NOX should negatively impact house value\n",
    "\n",
    "print \"\\n** Frequency ditribution of NOX feature **\" \n",
    "print data[\"NOX\"].value_counts(dropna='False').sort_index()\n",
    "print \"Percentages for NOX\"\n",
    "data[\"NOX\"].value_counts(normalize='True',dropna='False').sort_index()"
   ]
  },
  {
   "cell_type": "markdown",
   "metadata": {},
   "source": [
    "**Histogram for Nox**"
   ]
  },
  {
   "cell_type": "code",
   "execution_count": 10,
   "metadata": {
    "collapsed": false
   },
   "outputs": [
    {
     "data": {
      "text/plain": [
       "<matplotlib.text.Text at 0x1075c450>"
      ]
     },
     "execution_count": 10,
     "metadata": {},
     "output_type": "execute_result"
    },
    {
     "data": {
      "image/png": "[encoded data removed]",
      "text/plain": [
       "<matplotlib.figure.Figure at 0x103e8770>"
      ]
     },
     "metadata": {},
     "output_type": "display_data"
    }
   ],
   "source": [
    "seaborn.distplot(data['NOX'].dropna(),kde=False)\n",
    "plt.xlabel(\"Nitrous Oxide levels (ppm)\")\n",
    "plt.title(\"Distribution of Nitrous Oxide levels (ppm)\")"
   ]
  },
  {
   "cell_type": "markdown",
   "metadata": {
    "collapsed": false
   },
   "source": [
    "*NOX values have a range of 0.486 , spread across values (0.385 , 0.871). There are no missing values.\n",
    "Distribution seems to be skewed to right. And it is multi modal distribution*\n"
   ]
  },
  {
   "cell_type": "markdown",
   "metadata": {},
   "source": [
    "***Correlation with Response Variable (Q->Q)***"
   ]
  },
  {
   "cell_type": "code",
   "execution_count": 25,
   "metadata": {
    "collapsed": false
   },
   "outputs": [
    {
     "data": {
      "text/plain": [
       "<matplotlib.text.Text at 0x12698eb0>"
      ]
     },
     "execution_count": 25,
     "metadata": {},
     "output_type": "execute_result"
    },
    {
     "name": "stderr",
     "output_type": "stream",
     "text": [
      "C:\\Users\\212458098\\AppData\\Local\\Continuum\\Anaconda\\lib\\site-packages\\matplotlib\\collections.py:590: FutureWarning: elementwise comparison failed; returning scalar instead, but in the future will perform elementwise comparison\n",
      "  if self._edgecolors == str('face'):\n"
     ]
    },
    {
     "data": {
      "image/png": "[encoded data removed]",
      "text/plain": [
       "<matplotlib.figure.Figure at 0x11069410>"
      ]
     },
     "metadata": {},
     "output_type": "display_data"
    }
   ],
   "source": [
    "seaborn.regplot(x='NOX',y='MEDV',data=data)\n",
    "plt.xlabel(\"Nitrous Oxide levels (ppm)\")\n",
    "plt.ylabel(\"Median House value\")\n",
    "plt.title(\"Nitrous Oxide levels VS House Value\")"
   ]
  },
  {
   "cell_type": "markdown",
   "metadata": {},
   "source": [
    "**Categoric variable -  RAD**"
   ]
  },
  {
   "cell_type": "code",
   "execution_count": 17,
   "metadata": {
    "collapsed": false
   },
   "outputs": [
    {
     "name": "stdout",
     "output_type": "stream",
     "text": [
      "\n",
      "** Frequency ditribution of RAD feature **\n",
      "1      20\n",
      "2      24\n",
      "3      38\n",
      "4     110\n",
      "5     115\n",
      "6      26\n",
      "7      17\n",
      "8      24\n",
      "24    132\n",
      "dtype: int64\n",
      "Percentages for RAD\n"
     ]
    },
    {
     "data": {
      "text/plain": [
       "1    0.039526\n",
       "2    0.047431\n",
       "3    0.075099\n",
       "4    0.217391\n",
       "5    0.227273\n",
       "6    0.051383\n",
       "7    0.033597\n",
       "8    0.047431\n",
       "24   0.260870\n",
       "dtype: float64"
      ]
     },
     "execution_count": 17,
     "metadata": {},
     "output_type": "execute_result"
    }
   ],
   "source": [
    "# RAD is an index of accessibility to radial highways \n",
    "# This captures locational advantages besides nearness to workplace\n",
    "# This should positively impact house value\n",
    "\n",
    "print \"\\n** Frequency ditribution of RAD feature **\" \n",
    "print data[\"RAD\"].value_counts(dropna='False').sort_index()\n",
    "print \"Percentages for RAD\"\n",
    "data[\"RAD\"].value_counts(normalize='True',dropna='False').sort_index()"
   ]
  },
  {
   "cell_type": "markdown",
   "metadata": {},
   "source": [
    "***Bar diagram count plot***"
   ]
  },
  {
   "cell_type": "code",
   "execution_count": 21,
   "metadata": {
    "collapsed": false
   },
   "outputs": [
    {
     "data": {
      "text/plain": [
       "<matplotlib.text.Text at 0x10ef70f0>"
      ]
     },
     "execution_count": 21,
     "metadata": {},
     "output_type": "execute_result"
    },
    {
     "data": {
      "image/png": "[encoded data removed]",
      "text/plain": [
       "<matplotlib.figure.Figure at 0x10daa0d0>"
      ]
     },
     "metadata": {},
     "output_type": "display_data"
    }
   ],
   "source": [
    "seaborn.countplot(x='RAD',data=data)\n",
    "plt.xlabel(\"Highway accessibility index\")\n",
    "plt.title(\"Bar diagram for Highway accessibility index\")"
   ]
  },
  {
   "cell_type": "markdown",
   "metadata": {},
   "source": [
    "***Correlation with Response variable(C->Q)***"
   ]
  },
  {
   "cell_type": "code",
   "execution_count": 32,
   "metadata": {
    "collapsed": false
   },
   "outputs": [
    {
     "data": {
      "text/plain": [
       "<matplotlib.text.Text at 0x130ea2d0>"
      ]
     },
     "execution_count": 32,
     "metadata": {},
     "output_type": "execute_result"
    },
    {
     "data": {
      "image/png": "[encoded data removed]",
      "text/plain": [
       "<matplotlib.figure.Figure at 0x12e18350>"
      ]
     },
     "metadata": {},
     "output_type": "display_data"
    }
   ],
   "source": [
    "seaborn.factorplot(x='RAD',y='MEDV', kind=\"bar\",data=data,ci=None)\n",
    "plt.xlabel(\"Highway accessibility index\")\n",
    "plt.ylabel(\"Median House value\")\n",
    "plt.title(\"Highway accessibility index VS House Value\")"
   ]
  },
  {
   "cell_type": "code",
   "execution_count": 15,
   "metadata": {
    "collapsed": false
   },
   "outputs": [
    {
     "name": "stdout",
     "output_type": "stream",
     "text": [
      "\n",
      "** Frequency ditribution of CHAS feature **\n",
      "0    471\n",
      "1     35\n",
      "dtype: int64\n",
      "Percentages for CHAS\n"
     ]
    },
    {
     "data": {
      "text/plain": [
       "0   0.930830\n",
       "1   0.069170\n",
       "dtype: float64"
      ]
     },
     "execution_count": 15,
     "metadata": {},
     "output_type": "execute_result"
    }
   ],
   "source": [
    "# CHAS indicates if tract is bound by Charles River or not\n",
    "# It is expected that places surrounded by rivers have higher house value\n",
    "\n",
    "print \"\\n** Frequency ditribution of CHAS feature **\" \n",
    "print data[\"CHAS\"].value_counts(dropna='False').sort_index()\n",
    "print \"Percentages for CHAS\"\n",
    "data[\"CHAS\"].value_counts(normalize='True',dropna='False').sort_index()\n"
   ]
  },
  {
   "cell_type": "code",
   "execution_count": 18,
   "metadata": {
    "collapsed": false
   },
   "outputs": [
    {
     "data": {
      "text/plain": [
       "<matplotlib.text.Text at 0x10c354b0>"
      ]
     },
     "execution_count": 18,
     "metadata": {},
     "output_type": "execute_result"
    },
    {
     "data": {
      "image/png": "[encoded data removed]",
      "text/plain": [
       "<matplotlib.figure.Figure at 0x10bfab10>"
      ]
     },
     "metadata": {},
     "output_type": "display_data"
    }
   ],
   "source": [
    "seaborn.countplot(x='CHAS',data=data)\n",
    "plt.xlabel(\"CharlesRiver Neighbourhood\")\n",
    "plt.title(\"Bar diagram for Charles River Neighbourhood\")"
   ]
  },
  {
   "cell_type": "markdown",
   "metadata": {},
   "source": [
    "*** Continuous Variable - DIS***"
   ]
  },
  {
   "cell_type": "code",
   "execution_count": 19,
   "metadata": {
    "collapsed": false
   },
   "outputs": [
    {
     "name": "stdout",
     "output_type": "stream",
     "text": [
      "\n",
      "** Frequency ditribution of DIS feature **\n",
      "1.129600     1\n",
      "1.137000     1\n",
      "1.169100     1\n",
      "1.174200     1\n",
      "1.178100     1\n",
      "1.202400     1\n",
      "1.285200     1\n",
      "1.316300     1\n",
      "1.321600     1\n",
      "1.332500     1\n",
      "1.344900     1\n",
      "1.345900     1\n",
      "1.356700     1\n",
      "1.358000     1\n",
      "1.386100     2\n",
      "1.411800     1\n",
      "1.413000     1\n",
      "1.416500     1\n",
      "1.419100     1\n",
      "1.425400     1\n",
      "1.426100     1\n",
      "1.439400     1\n",
      "1.439500     1\n",
      "1.454700     1\n",
      "1.460800     1\n",
      "1.465500     1\n",
      "1.467200     1\n",
      "1.489600     1\n",
      "1.500400     1\n",
      "1.510600     1\n",
      "            ..\n",
      "7.035500     2\n",
      "7.037900     1\n",
      "7.225400     1\n",
      "7.225500     1\n",
      "7.307300     2\n",
      "7.309000     3\n",
      "7.317200     3\n",
      "7.319700     1\n",
      "7.396700     2\n",
      "7.653400     2\n",
      "7.814800     1\n",
      "7.826500     2\n",
      "7.827800     3\n",
      "7.954900     2\n",
      "7.980900     1\n",
      "8.013600     2\n",
      "8.055500     2\n",
      "8.324800     1\n",
      "8.344000     1\n",
      "8.535300     1\n",
      "8.696600     1\n",
      "8.792100     2\n",
      "8.906700     2\n",
      "9.089200     1\n",
      "9.187600     1\n",
      "9.220300     2\n",
      "9.222900     1\n",
      "10.585700    2\n",
      "10.710300    2\n",
      "12.126500    1\n",
      "Name: DIS, dtype: int64\n",
      "Percentages for DIS\n"
     ]
    },
    {
     "data": {
      "text/plain": [
       "1.129600    0.001976\n",
       "1.137000    0.001976\n",
       "1.169100    0.001976\n",
       "1.174200    0.001976\n",
       "1.178100    0.001976\n",
       "1.202400    0.001976\n",
       "1.285200    0.001976\n",
       "1.316300    0.001976\n",
       "1.321600    0.001976\n",
       "1.332500    0.001976\n",
       "1.344900    0.001976\n",
       "1.345900    0.001976\n",
       "1.356700    0.001976\n",
       "1.358000    0.001976\n",
       "1.386100    0.003953\n",
       "1.411800    0.001976\n",
       "1.413000    0.001976\n",
       "1.416500    0.001976\n",
       "1.419100    0.001976\n",
       "1.425400    0.001976\n",
       "1.426100    0.001976\n",
       "1.439400    0.001976\n",
       "1.439500    0.001976\n",
       "1.454700    0.001976\n",
       "1.460800    0.001976\n",
       "1.465500    0.001976\n",
       "1.467200    0.001976\n",
       "1.489600    0.001976\n",
       "1.500400    0.001976\n",
       "1.510600    0.001976\n",
       "              ...   \n",
       "7.035500    0.003953\n",
       "7.037900    0.001976\n",
       "7.225400    0.001976\n",
       "7.225500    0.001976\n",
       "7.307300    0.003953\n",
       "7.309000    0.005929\n",
       "7.317200    0.005929\n",
       "7.319700    0.001976\n",
       "7.396700    0.003953\n",
       "7.653400    0.003953\n",
       "7.814800    0.001976\n",
       "7.826500    0.003953\n",
       "7.827800    0.005929\n",
       "7.954900    0.003953\n",
       "7.980900    0.001976\n",
       "8.013600    0.003953\n",
       "8.055500    0.003953\n",
       "8.324800    0.001976\n",
       "8.344000    0.001976\n",
       "8.535300    0.001976\n",
       "8.696600    0.001976\n",
       "8.792100    0.003953\n",
       "8.906700    0.003953\n",
       "9.089200    0.001976\n",
       "9.187600    0.001976\n",
       "9.220300    0.003953\n",
       "9.222900    0.001976\n",
       "10.585700   0.003953\n",
       "10.710300   0.003953\n",
       "12.126500   0.001976\n",
       "Name: DIS, dtype: float64"
      ]
     },
     "execution_count": 19,
     "metadata": {},
     "output_type": "execute_result"
    }
   ],
   "source": [
    "# DIS is weighted distance to five Boston employment centres \n",
    "#  This should negatively impact house value\n",
    "\n",
    "print \"\\n** Frequency ditribution of DIS feature **\" \n",
    "print data[\"DIS\"].value_counts(dropna='False').sort_index()\n",
    "print \"Percentages for DIS\"\n",
    "data[\"DIS\"].value_counts(normalize='True',dropna='False').sort_index()\n"
   ]
  },
  {
   "cell_type": "code",
   "execution_count": 20,
   "metadata": {
    "collapsed": false
   },
   "outputs": [
    {
     "data": {
      "text/plain": [
       "<matplotlib.text.Text at 0x10db6030>"
      ]
     },
     "execution_count": 20,
     "metadata": {},
     "output_type": "execute_result"
    },
    {
     "data": {
      "image/png": "[encoded data removed]",
      "text/plain": [
       "<matplotlib.figure.Figure at 0x10bfacf0>"
      ]
     },
     "metadata": {},
     "output_type": "display_data"
    }
   ],
   "source": [
    "seaborn.distplot(data['DIS'].dropna(),kde=False)\n",
    "plt.xlabel(\"Accessibility to Employment centres\")\n",
    "plt.title(\"Distribution of Employment centre accessibility\")"
   ]
  },
  {
   "cell_type": "markdown",
   "metadata": {},
   "source": [
    "*Employment centre accessibility distribution is unimodal and is skewed towards right. This has a mode at around 2 and has a spread of around 11*"
   ]
  },
  {
   "cell_type": "code",
   "execution_count": 33,
   "metadata": {
    "collapsed": false
   },
   "outputs": [
    {
     "data": {
      "text/plain": [
       "<matplotlib.text.Text at 0x12ba1030>"
      ]
     },
     "execution_count": 33,
     "metadata": {},
     "output_type": "execute_result"
    },
    {
     "data": {
      "image/png": "[encoded data removed]",
      "text/plain": [
       "<matplotlib.figure.Figure at 0x130ea410>"
      ]
     },
     "metadata": {},
     "output_type": "display_data"
    }
   ],
   "source": [
    "seaborn.regplot(x='DIS',y='MEDV',data=data)\n",
    "plt.xlabel(\"Employment centre accessibility\")\n",
    "plt.ylabel(\"Median House value\")\n",
    "plt.title(\"Employment centre accessibility VS House Value\")"
   ]
  }
 ],
 "metadata": {
  "kernelspec": {
   "display_name": "Python 2",
   "language": "python",
   "name": "python2"
  },
  "language_info": {
   "codemirror_mode": {
    "name": "ipython",
    "version": 2
   },
   "file_extension": ".py",
   "mimetype": "text/x-python",
   "name": "python",
   "nbconvert_exporter": "python",
   "pygments_lexer": "ipython2",
   "version": "2.7.11"
  }
 },
 "nbformat": 4,
 "nbformat_minor": 0
}
