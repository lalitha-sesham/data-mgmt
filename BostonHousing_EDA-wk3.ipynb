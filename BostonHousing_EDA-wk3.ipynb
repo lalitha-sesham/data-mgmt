{
 "cells": [
  {
   "cell_type": "code",
   "execution_count": 23,
   "metadata": {
    "collapsed": true
   },
   "outputs": [],
   "source": [
    "# import libraries \n",
    "import pandas as pd\n",
    "import numpy as np\n",
    "import matplotlib.pyplot as plt\n",
    "%matplotlib inline"
   ]
  },
  {
   "cell_type": "code",
   "execution_count": 24,
   "metadata": {
    "collapsed": false
   },
   "outputs": [],
   "source": [
    "# Read housing data set csv into memory\n",
    "data=pd.read_csv(\"../data/Boston_housing_data.csv\",low_memory='False')\n",
    "\n",
    "# bug fix for display formats to avoid run time errors\n",
    "pd.set_option('display.float_format', lambda x:'%f'%x)"
   ]
  },
  {
   "cell_type": "code",
   "execution_count": 25,
   "metadata": {
    "collapsed": false
   },
   "outputs": [
    {
     "name": "stdout",
     "output_type": "stream",
     "text": [
      "Number of rows in data set -  506\n",
      "Number of features in data set -  14\n",
      "      CRIM        ZN    INDUS  CHAS      NOX       RM        AGE      DIS  \\\n",
      "0 0.006320 18.000000 2.310000     0 0.538000 6.575000  65.200000 4.090000   \n",
      "1 0.027310  0.000000 7.070000     0 0.469000 6.421000  78.900000 4.967100   \n",
      "2 0.027290  0.000000 7.070000     0 0.469000 7.185000  61.100000 4.967100   \n",
      "3 0.032370  0.000000 2.180000     0 0.458000 6.998000  45.800000 6.062200   \n",
      "4 0.069050  0.000000 2.180000     0 0.458000 7.147000  54.200000 6.062200   \n",
      "5 0.029850  0.000000 2.180000     0 0.458000 6.430000  58.700000 6.062200   \n",
      "6 0.088290 12.500000 7.870000     0 0.524000 6.012000  66.600000 5.560500   \n",
      "7 0.144550 12.500000 7.870000     0 0.524000 6.172000  96.100000 5.950500   \n",
      "8 0.211240 12.500000 7.870000     0 0.524000 5.631000 100.000000 6.082100   \n",
      "9 0.170040 12.500000 7.870000     0 0.524000 6.004000  85.900000 6.592100   \n",
      "\n",
      "   RAD  TAX   PTRATIO          B     LSTAT      MEDV  \n",
      "0    1  296 15.300000 396.900000  4.980000 24.000000  \n",
      "1    2  242 17.800000 396.900000  9.140000 21.600000  \n",
      "2    2  242 17.800000 392.830000  4.030000 34.700000  \n",
      "3    3  222 18.700000 394.630000  2.940000 33.400000  \n",
      "4    3  222 18.700000 396.900000  5.330000 36.200000  \n",
      "5    3  222 18.700000 394.120000  5.210000 28.700000  \n",
      "6    5  311 15.200000 395.600000 12.430000 22.900000  \n",
      "7    5  311 15.200000 396.900000 19.150000 27.100000  \n",
      "8    5  311 15.200000 386.630000 29.930000 16.500000  \n",
      "9    5  311 15.200000 386.710000 17.100000 18.900000  \n"
     ]
    },
    {
     "data": {
      "text/html": [
       "<div>\n",
       "<table border=\"1\" class=\"dataframe\">\n",
       "  <thead>\n",
       "    <tr style=\"text-align: right;\">\n",
       "      <th></th>\n",
       "      <th>CRIM</th>\n",
       "      <th>ZN</th>\n",
       "      <th>INDUS</th>\n",
       "      <th>CHAS</th>\n",
       "      <th>NOX</th>\n",
       "      <th>RM</th>\n",
       "      <th>AGE</th>\n",
       "      <th>DIS</th>\n",
       "      <th>RAD</th>\n",
       "      <th>TAX</th>\n",
       "      <th>PTRATIO</th>\n",
       "      <th>B</th>\n",
       "      <th>LSTAT</th>\n",
       "      <th>MEDV</th>\n",
       "    </tr>\n",
       "  </thead>\n",
       "  <tbody>\n",
       "    <tr>\n",
       "      <th>count</th>\n",
       "      <td>506.000000</td>\n",
       "      <td>506.000000</td>\n",
       "      <td>506.000000</td>\n",
       "      <td>506.000000</td>\n",
       "      <td>506.000000</td>\n",
       "      <td>506.000000</td>\n",
       "      <td>506.000000</td>\n",
       "      <td>506.000000</td>\n",
       "      <td>506.000000</td>\n",
       "      <td>506.000000</td>\n",
       "      <td>506.000000</td>\n",
       "      <td>506.000000</td>\n",
       "      <td>506.000000</td>\n",
       "      <td>506.000000</td>\n",
       "    </tr>\n",
       "    <tr>\n",
       "      <th>mean</th>\n",
       "      <td>3.613524</td>\n",
       "      <td>11.363636</td>\n",
       "      <td>11.136779</td>\n",
       "      <td>0.069170</td>\n",
       "      <td>0.554695</td>\n",
       "      <td>6.284634</td>\n",
       "      <td>68.574901</td>\n",
       "      <td>3.795043</td>\n",
       "      <td>9.549407</td>\n",
       "      <td>408.237154</td>\n",
       "      <td>18.455534</td>\n",
       "      <td>356.674032</td>\n",
       "      <td>12.653063</td>\n",
       "      <td>22.532806</td>\n",
       "    </tr>\n",
       "    <tr>\n",
       "      <th>std</th>\n",
       "      <td>8.601545</td>\n",
       "      <td>23.322453</td>\n",
       "      <td>6.860353</td>\n",
       "      <td>0.253994</td>\n",
       "      <td>0.115878</td>\n",
       "      <td>0.702617</td>\n",
       "      <td>28.148861</td>\n",
       "      <td>2.105710</td>\n",
       "      <td>8.707259</td>\n",
       "      <td>168.537116</td>\n",
       "      <td>2.164946</td>\n",
       "      <td>91.294864</td>\n",
       "      <td>7.141062</td>\n",
       "      <td>9.197104</td>\n",
       "    </tr>\n",
       "    <tr>\n",
       "      <th>min</th>\n",
       "      <td>0.006320</td>\n",
       "      <td>0.000000</td>\n",
       "      <td>0.460000</td>\n",
       "      <td>0.000000</td>\n",
       "      <td>0.385000</td>\n",
       "      <td>3.561000</td>\n",
       "      <td>2.900000</td>\n",
       "      <td>1.129600</td>\n",
       "      <td>1.000000</td>\n",
       "      <td>187.000000</td>\n",
       "      <td>12.600000</td>\n",
       "      <td>0.320000</td>\n",
       "      <td>1.730000</td>\n",
       "      <td>5.000000</td>\n",
       "    </tr>\n",
       "    <tr>\n",
       "      <th>25%</th>\n",
       "      <td>0.082045</td>\n",
       "      <td>0.000000</td>\n",
       "      <td>5.190000</td>\n",
       "      <td>0.000000</td>\n",
       "      <td>0.449000</td>\n",
       "      <td>5.885500</td>\n",
       "      <td>45.025000</td>\n",
       "      <td>2.100175</td>\n",
       "      <td>4.000000</td>\n",
       "      <td>279.000000</td>\n",
       "      <td>17.400000</td>\n",
       "      <td>375.377500</td>\n",
       "      <td>6.950000</td>\n",
       "      <td>17.025000</td>\n",
       "    </tr>\n",
       "    <tr>\n",
       "      <th>50%</th>\n",
       "      <td>0.256510</td>\n",
       "      <td>0.000000</td>\n",
       "      <td>9.690000</td>\n",
       "      <td>0.000000</td>\n",
       "      <td>0.538000</td>\n",
       "      <td>6.208500</td>\n",
       "      <td>77.500000</td>\n",
       "      <td>3.207450</td>\n",
       "      <td>5.000000</td>\n",
       "      <td>330.000000</td>\n",
       "      <td>19.050000</td>\n",
       "      <td>391.440000</td>\n",
       "      <td>11.360000</td>\n",
       "      <td>21.200000</td>\n",
       "    </tr>\n",
       "    <tr>\n",
       "      <th>75%</th>\n",
       "      <td>3.677082</td>\n",
       "      <td>12.500000</td>\n",
       "      <td>18.100000</td>\n",
       "      <td>0.000000</td>\n",
       "      <td>0.624000</td>\n",
       "      <td>6.623500</td>\n",
       "      <td>94.075000</td>\n",
       "      <td>5.188425</td>\n",
       "      <td>24.000000</td>\n",
       "      <td>666.000000</td>\n",
       "      <td>20.200000</td>\n",
       "      <td>396.225000</td>\n",
       "      <td>16.955000</td>\n",
       "      <td>25.000000</td>\n",
       "    </tr>\n",
       "    <tr>\n",
       "      <th>max</th>\n",
       "      <td>88.976200</td>\n",
       "      <td>100.000000</td>\n",
       "      <td>27.740000</td>\n",
       "      <td>1.000000</td>\n",
       "      <td>0.871000</td>\n",
       "      <td>8.780000</td>\n",
       "      <td>100.000000</td>\n",
       "      <td>12.126500</td>\n",
       "      <td>24.000000</td>\n",
       "      <td>711.000000</td>\n",
       "      <td>22.000000</td>\n",
       "      <td>396.900000</td>\n",
       "      <td>37.970000</td>\n",
       "      <td>50.000000</td>\n",
       "    </tr>\n",
       "  </tbody>\n",
       "</table>\n",
       "</div>"
      ],
      "text/plain": [
       "            CRIM         ZN      INDUS       CHAS        NOX         RM  \\\n",
       "count 506.000000 506.000000 506.000000 506.000000 506.000000 506.000000   \n",
       "mean    3.613524  11.363636  11.136779   0.069170   0.554695   6.284634   \n",
       "std     8.601545  23.322453   6.860353   0.253994   0.115878   0.702617   \n",
       "min     0.006320   0.000000   0.460000   0.000000   0.385000   3.561000   \n",
       "25%     0.082045   0.000000   5.190000   0.000000   0.449000   5.885500   \n",
       "50%     0.256510   0.000000   9.690000   0.000000   0.538000   6.208500   \n",
       "75%     3.677082  12.500000  18.100000   0.000000   0.624000   6.623500   \n",
       "max    88.976200 100.000000  27.740000   1.000000   0.871000   8.780000   \n",
       "\n",
       "             AGE        DIS        RAD        TAX    PTRATIO          B  \\\n",
       "count 506.000000 506.000000 506.000000 506.000000 506.000000 506.000000   \n",
       "mean   68.574901   3.795043   9.549407 408.237154  18.455534 356.674032   \n",
       "std    28.148861   2.105710   8.707259 168.537116   2.164946  91.294864   \n",
       "min     2.900000   1.129600   1.000000 187.000000  12.600000   0.320000   \n",
       "25%    45.025000   2.100175   4.000000 279.000000  17.400000 375.377500   \n",
       "50%    77.500000   3.207450   5.000000 330.000000  19.050000 391.440000   \n",
       "75%    94.075000   5.188425  24.000000 666.000000  20.200000 396.225000   \n",
       "max   100.000000  12.126500  24.000000 711.000000  22.000000 396.900000   \n",
       "\n",
       "           LSTAT       MEDV  \n",
       "count 506.000000 506.000000  \n",
       "mean   12.653063  22.532806  \n",
       "std     7.141062   9.197104  \n",
       "min     1.730000   5.000000  \n",
       "25%     6.950000  17.025000  \n",
       "50%    11.360000  21.200000  \n",
       "75%    16.955000  25.000000  \n",
       "max    37.970000  50.000000  "
      ]
     },
     "execution_count": 25,
     "metadata": {},
     "output_type": "execute_result"
    }
   ],
   "source": [
    "# Upper case all data frame column names\n",
    "data.columns=map(str.upper, data.columns)\n",
    "\n",
    "#check dimensions of data set\n",
    "(rows,features)= data.shape\n",
    "print \"Number of rows in data set - \", rows\n",
    "print \"Number of features in data set - \",features\n",
    "print data.head(10)\n",
    "data.describe()"
   ]
  },
  {
   "cell_type": "markdown",
   "metadata": {},
   "source": [
    " Attribute Information:\n",
    "\n",
    "    1. CRIM      per capita crime rate by town\n",
    "    2. ZN        proportion of residential land zoned for lots over \n",
    "                 25,000 sq.ft.\n",
    "    3. INDUS     proportion of non-retail business acres per town\n",
    "    4. CHAS      Charles River dummy variable (= 1 if tract bounds \n",
    "                 river; 0 otherwise)\n",
    "    5. NOX       nitric oxides concentration (parts per 10 million)\n",
    "    6. RM        average number of rooms per dwelling\n",
    "    7. AGE       proportion of owner-occupied units built prior to 1940\n",
    "    8. DIS       weighted distances to five Boston employment centres\n",
    "    9. RAD       index of accessibility to radial highways\n",
    "    10. TAX      full-value property-tax rate per $10,000\n",
    "    11. PTRATIO  pupil-teacher ratio by town\n",
    "    12. B        1000(Bk - 0.63)^2 where Bk is the proportion of blacks \n",
    "                 by town\n",
    "    13. LSTAT    % lower status of the population\n",
    "    14. MEDV     Median value of owner-occupied homes in $1000's"
   ]
  },
  {
   "cell_type": "code",
   "execution_count": 26,
   "metadata": {
    "collapsed": false
   },
   "outputs": [
    {
     "name": "stdout",
     "output_type": "stream",
     "text": [
      "Index([u'CRIM', u'ZN', u'INDUS', u'CHAS', u'NOX', u'RM', u'AGE', u'DIS',\n",
      "       u'RAD', u'TAX', u'PTRATIO', u'B', u'LSTAT', u'MEDV'],\n",
      "      dtype='object')\n"
     ]
    }
   ],
   "source": [
    "print data.columns"
   ]
  },
  {
   "cell_type": "code",
   "execution_count": 5,
   "metadata": {
    "collapsed": false
   },
   "outputs": [
    {
     "name": "stdout",
     "output_type": "stream",
     "text": [
      " current data set dimensions (506, 9)\n"
     ]
    }
   ],
   "source": [
    "# As part of my research, I'm interested in seeing the correlation between MEDV and \n",
    "# proximity from schools, employment centres \n",
    "# Pollution levels and social status\n",
    "'''\n",
    "Output variable\n",
    "-----------------\n",
    "MEDV     Median value of owner-occupied homes in $1000's\n",
    "\n",
    "Features I'm interested in : \n",
    "==============================================================\n",
    "\n",
    "NOX       nitric oxides concentration (parts per 10 million)\n",
    "RAD       index of accessibility to radial highways\n",
    "CHAS      Charles River dummy variable (= 1 if tract bounds \n",
    "                 river; 0 otherwise)\n",
    "DIS       weighted distances to five Boston employment centres\n",
    "PTRATIO  pupil-teacher ratio by town\n",
    "LSTAT    % lower status of the population\n",
    "==============================================================\n",
    "\n",
    "Features which directly impact house value:\n",
    "------------------------------------------------\n",
    "RM        average number of rooms per dwelling\n",
    "AGE       proportion of owner-occupied units built prior to 1940\n",
    "\n",
    "\n",
    "'''\n",
    "\n",
    "data = data [[\"MEDV\",\"NOX\",\"RAD\",\"CHAS\",\"DIS\",\"PTRATIO\",\"LSTAT\",\"RM\",\"AGE\"]]\n",
    "\n",
    "print \" current data set dimensions\", data.shape"
   ]
  },
  {
   "cell_type": "code",
   "execution_count": 6,
   "metadata": {
    "collapsed": false
   },
   "outputs": [],
   "source": [
    "#setting variables you will be working with to numeric\n",
    "data['MEDV'] = pd.to_numeric(data['MEDV'])\n",
    "data['NOX'] = pd.to_numeric(data['NOX'])\n",
    "data['RAD'] = pd.to_numeric(data['RAD'])\n",
    "data['CHAS'] = pd.to_numeric(data['CHAS'])\n",
    "data['DIS'] = pd.to_numeric(data['DIS'])\n",
    "data['PTRATIO'] = pd.to_numeric(data['PTRATIO'])\n",
    "data['LSTAT'] = pd.to_numeric(data['LSTAT'])\n",
    "data['RM'] = pd.to_numeric(data['RM'])\n",
    "data['AGE'] = pd.to_numeric(data['AGE'])"
   ]
  },
  {
   "cell_type": "markdown",
   "metadata": {},
   "source": [
    "## UniVariate Analysis"
   ]
  },
  {
   "cell_type": "code",
   "execution_count": 7,
   "metadata": {
    "collapsed": false
   },
   "outputs": [
    {
     "name": "stdout",
     "output_type": "stream",
     "text": [
      "\n",
      "** Frequency ditribution of NOX feature **\n",
      "0.385000     1\n",
      "0.389000     1\n",
      "0.392000     2\n",
      "0.394000     1\n",
      "0.398000     2\n",
      "0.400000     4\n",
      "0.401000     3\n",
      "0.403000     3\n",
      "0.404000     3\n",
      "0.405000     3\n",
      "0.409000     3\n",
      "0.410000     3\n",
      "0.411000     6\n",
      "0.413000     6\n",
      "0.415000     2\n",
      "0.416100     3\n",
      "0.422000     1\n",
      "0.426000     4\n",
      "0.428000     8\n",
      "0.429000     3\n",
      "0.431000    10\n",
      "0.433000     3\n",
      "0.435000     1\n",
      "0.437000    17\n",
      "0.437900     2\n",
      "0.439000     4\n",
      "0.442000     3\n",
      "0.442900     4\n",
      "0.445000     5\n",
      "0.447000     5\n",
      "            ..\n",
      "0.538000    23\n",
      "0.544000    12\n",
      "0.547000     9\n",
      "0.550000     4\n",
      "0.573000     5\n",
      "0.575000     2\n",
      "0.580000     4\n",
      "0.581000     7\n",
      "0.583000     4\n",
      "0.584000     8\n",
      "0.585000     8\n",
      "0.597000     6\n",
      "0.605000    14\n",
      "0.609000     5\n",
      "0.614000     7\n",
      "0.624000    15\n",
      "0.631000     5\n",
      "0.647000    10\n",
      "0.655000     3\n",
      "0.659000     2\n",
      "0.668000     3\n",
      "0.671000     7\n",
      "0.679000     8\n",
      "0.693000    14\n",
      "0.700000    11\n",
      "0.713000    18\n",
      "0.718000     6\n",
      "0.740000    13\n",
      "0.770000     8\n",
      "0.871000    16\n",
      "Name: NOX, dtype: int64\n",
      "Percentages for NOX\n"
     ]
    },
    {
     "data": {
      "text/plain": [
       "0.385000   0.001976\n",
       "0.389000   0.001976\n",
       "0.392000   0.003953\n",
       "0.394000   0.001976\n",
       "0.398000   0.003953\n",
       "0.400000   0.007905\n",
       "0.401000   0.005929\n",
       "0.403000   0.005929\n",
       "0.404000   0.005929\n",
       "0.405000   0.005929\n",
       "0.409000   0.005929\n",
       "0.410000   0.005929\n",
       "0.411000   0.011858\n",
       "0.413000   0.011858\n",
       "0.415000   0.003953\n",
       "0.416100   0.005929\n",
       "0.422000   0.001976\n",
       "0.426000   0.007905\n",
       "0.428000   0.015810\n",
       "0.429000   0.005929\n",
       "0.431000   0.019763\n",
       "0.433000   0.005929\n",
       "0.435000   0.001976\n",
       "0.437000   0.033597\n",
       "0.437900   0.003953\n",
       "0.439000   0.007905\n",
       "0.442000   0.005929\n",
       "0.442900   0.007905\n",
       "0.445000   0.009881\n",
       "0.447000   0.009881\n",
       "             ...   \n",
       "0.538000   0.045455\n",
       "0.544000   0.023715\n",
       "0.547000   0.017787\n",
       "0.550000   0.007905\n",
       "0.573000   0.009881\n",
       "0.575000   0.003953\n",
       "0.580000   0.007905\n",
       "0.581000   0.013834\n",
       "0.583000   0.007905\n",
       "0.584000   0.015810\n",
       "0.585000   0.015810\n",
       "0.597000   0.011858\n",
       "0.605000   0.027668\n",
       "0.609000   0.009881\n",
       "0.614000   0.013834\n",
       "0.624000   0.029644\n",
       "0.631000   0.009881\n",
       "0.647000   0.019763\n",
       "0.655000   0.005929\n",
       "0.659000   0.003953\n",
       "0.668000   0.005929\n",
       "0.671000   0.013834\n",
       "0.679000   0.015810\n",
       "0.693000   0.027668\n",
       "0.700000   0.021739\n",
       "0.713000   0.035573\n",
       "0.718000   0.011858\n",
       "0.740000   0.025692\n",
       "0.770000   0.015810\n",
       "0.871000   0.031621\n",
       "Name: NOX, dtype: float64"
      ]
     },
     "execution_count": 7,
     "metadata": {},
     "output_type": "execute_result"
    }
   ],
   "source": [
    "# NOX indicates nitric oxides concentration - parts per 10 million\n",
    "# This being an indicator of pollution level, NOX should negatively impact house value\n",
    "\n",
    "print \"\\n** Frequency ditribution of NOX feature **\" \n",
    "print data[\"NOX\"].value_counts(dropna='False').sort_index()\n",
    "print \"Percentages for NOX\"\n",
    "data[\"NOX\"].value_counts(normalize='True',dropna='False').sort_index()"
   ]
  },
  {
   "cell_type": "code",
   "execution_count": 8,
   "metadata": {
    "collapsed": false
   },
   "outputs": [
    {
     "data": {
      "text/plain": [
       "<matplotlib.axes._subplots.AxesSubplot at 0x87c5bb0>"
      ]
     },
     "execution_count": 8,
     "metadata": {},
     "output_type": "execute_result"
    },
    {
     "data": {
      "image/png": "[encoded data removed]",
      "text/plain": [
       "<matplotlib.figure.Figure at 0x3161eb0>"
      ]
     },
     "metadata": {},
     "output_type": "display_data"
    }
   ],
   "source": [
    "data[\"NOX\"].plot.hist()"
   ]
  },
  {
   "cell_type": "code",
   "execution_count": 9,
   "metadata": {
    "collapsed": false
   },
   "outputs": [
    {
     "data": {
      "text/plain": [
       "'\\nNOX values have a range of 0.486 , spread across values (0.385 , 0.871). There are no missing values.\\nDistribution seems to be skewed to rights\\n'"
      ]
     },
     "execution_count": 9,
     "metadata": {},
     "output_type": "execute_result"
    }
   ],
   "source": [
    "'''\n",
    "NOX values have a range of 0.486 , spread across values (0.385 , 0.871). There are no missing values.\n",
    "Distribution seems to be skewed to rights\n",
    "'''"
   ]
  },
  {
   "cell_type": "code",
   "execution_count": 10,
   "metadata": {
    "collapsed": false
   },
   "outputs": [
    {
     "name": "stdout",
     "output_type": "stream",
     "text": [
      "1=0%tile     129\n",
      "2=25%tile    143\n",
      "3=50%tile    110\n",
      "4=75%tile    124\n",
      "dtype: int64\n",
      "1=0%tile    0.254941\n",
      "2=25%tile   0.282609\n",
      "3=50%tile   0.217391\n",
      "4=75%tile   0.245059\n",
      "dtype: float64\n"
     ]
    }
   ],
   "source": [
    "data['NOX_Q']=pd.qcut(data.NOX, 4, labels=[\"1=0%tile\",\"2=25%tile\",\"3=50%tile\",\"4=75%tile\"])\n",
    "print data['NOX_Q'].value_counts(sort=False, dropna=False)\n",
    "print data['NOX_Q'].value_counts(sort=False, dropna=False,normalize='True')"
   ]
  },
  {
   "cell_type": "code",
   "execution_count": 11,
   "metadata": {
    "collapsed": false
   },
   "outputs": [
    {
     "name": "stdout",
     "output_type": "stream",
     "text": [
      "\n",
      "** Frequency ditribution of RAD feature **\n",
      "1      20\n",
      "2      24\n",
      "3      38\n",
      "4     110\n",
      "5     115\n",
      "6      26\n",
      "7      17\n",
      "8      24\n",
      "24    132\n",
      "Name: RAD, dtype: int64\n",
      "Percentages for RAD\n"
     ]
    },
    {
     "data": {
      "text/plain": [
       "<matplotlib.axes._subplots.AxesSubplot at 0x89e68d0>"
      ]
     },
     "execution_count": 11,
     "metadata": {},
     "output_type": "execute_result"
    },
    {
     "data": {
      "image/png": "[encoded data removed]",
      "text/plain": [
       "<matplotlib.figure.Figure at 0x89db8d0>"
      ]
     },
     "metadata": {},
     "output_type": "display_data"
    }
   ],
   "source": [
    "# RAD is an index of accessibility to radial highways \n",
    "# This captures locational advantages besides nearness to workplace\n",
    "# This should positively impact house value\n",
    "\n",
    "print \"\\n** Frequency ditribution of RAD feature **\" \n",
    "print data[\"RAD\"].value_counts(dropna='False').sort_index()\n",
    "print \"Percentages for RAD\"\n",
    "data[\"RAD\"].value_counts(normalize='True',dropna='False').sort_index()\n",
    "data[\"RAD\"].plot.hist()"
   ]
  },
  {
   "cell_type": "code",
   "execution_count": 12,
   "metadata": {
    "collapsed": false
   },
   "outputs": [
    {
     "name": "stdout",
     "output_type": "stream",
     "text": [
      "\n",
      "** Frequency ditribution of CHAS feature **\n",
      "0    471\n",
      "1     35\n",
      "Name: CHAS, dtype: int64\n",
      "Percentages for CHAS\n"
     ]
    },
    {
     "data": {
      "text/plain": [
       "0   0.930830\n",
       "1   0.069170\n",
       "Name: CHAS, dtype: float64"
      ]
     },
     "execution_count": 12,
     "metadata": {},
     "output_type": "execute_result"
    }
   ],
   "source": [
    "# CHAS indicates if tract is bound by Charles River or not\n",
    "# It is expected that places surrounded by rivers have higher house value\n",
    "\n",
    "print \"\\n** Frequency ditribution of CHAS feature **\" \n",
    "print data[\"CHAS\"].value_counts(dropna='False').sort_index()\n",
    "print \"Percentages for CHAS\"\n",
    "data[\"CHAS\"].value_counts(normalize='True',dropna='False').sort_index()\n"
   ]
  },
  {
   "cell_type": "code",
   "execution_count": 13,
   "metadata": {
    "collapsed": false
   },
   "outputs": [
    {
     "name": "stdout",
     "output_type": "stream",
     "text": [
      "\n",
      "** Frequency ditribution of DIS feature **\n",
      "1.129600     1\n",
      "1.137000     1\n",
      "1.169100     1\n",
      "1.174200     1\n",
      "1.178100     1\n",
      "1.202400     1\n",
      "1.285200     1\n",
      "1.316300     1\n",
      "1.321600     1\n",
      "1.332500     1\n",
      "1.344900     1\n",
      "1.345900     1\n",
      "1.356700     1\n",
      "1.358000     1\n",
      "1.386100     2\n",
      "1.411800     1\n",
      "1.413000     1\n",
      "1.416500     1\n",
      "1.419100     1\n",
      "1.425400     1\n",
      "1.426100     1\n",
      "1.439400     1\n",
      "1.439500     1\n",
      "1.454700     1\n",
      "1.460800     1\n",
      "1.465500     1\n",
      "1.467200     1\n",
      "1.489600     1\n",
      "1.500400     1\n",
      "1.510600     1\n",
      "            ..\n",
      "7.035500     2\n",
      "7.037900     1\n",
      "7.225400     1\n",
      "7.225500     1\n",
      "7.307300     2\n",
      "7.309000     3\n",
      "7.317200     3\n",
      "7.319700     1\n",
      "7.396700     2\n",
      "7.653400     2\n",
      "7.814800     1\n",
      "7.826500     2\n",
      "7.827800     3\n",
      "7.954900     2\n",
      "7.980900     1\n",
      "8.013600     2\n",
      "8.055500     2\n",
      "8.324800     1\n",
      "8.344000     1\n",
      "8.535300     1\n",
      "8.696600     1\n",
      "8.792100     2\n",
      "8.906700     2\n",
      "9.089200     1\n",
      "9.187600     1\n",
      "9.220300     2\n",
      "9.222900     1\n",
      "10.585700    2\n",
      "10.710300    2\n",
      "12.126500    1\n",
      "Name: DIS, dtype: int64\n",
      "Percentages for DIS\n"
     ]
    },
    {
     "data": {
      "text/plain": [
       "<matplotlib.axes._subplots.AxesSubplot at 0x3161b50>"
      ]
     },
     "execution_count": 13,
     "metadata": {},
     "output_type": "execute_result"
    },
    {
     "data": {
      "image/png": "[encoded data removed]",
      "text/plain": [
       "<matplotlib.figure.Figure at 0x89e6ff0>"
      ]
     },
     "metadata": {},
     "output_type": "display_data"
    }
   ],
   "source": [
    "# DIS is weighted distance to five Boston employment centres \n",
    "#  This should negatively impact house value\n",
    "\n",
    "print \"\\n** Frequency ditribution of DIS feature **\" \n",
    "print data[\"DIS\"].value_counts(dropna='False').sort_index()\n",
    "print \"Percentages for DIS\"\n",
    "data[\"DIS\"].value_counts(normalize='True',dropna='False').sort_index()\n",
    "data[\"DIS\"].plot.hist()"
   ]
  },
  {
   "cell_type": "code",
   "execution_count": 14,
   "metadata": {
    "collapsed": false
   },
   "outputs": [
    {
     "name": "stdout",
     "output_type": "stream",
     "text": [
      "506\n",
      "\n",
      "** Frequency ditribution of RM feature **\n",
      "3.561000    1\n",
      "3.863000    1\n",
      "4.138000    2\n",
      "4.368000    1\n",
      "4.519000    1\n",
      "4.628000    1\n",
      "4.652000    1\n",
      "4.880000    1\n",
      "4.903000    1\n",
      "4.906000    1\n",
      "4.926000    1\n",
      "4.963000    1\n",
      "4.970000    1\n",
      "4.973000    1\n",
      "5.000000    1\n",
      "5.012000    1\n",
      "5.019000    1\n",
      "5.036000    1\n",
      "5.093000    1\n",
      "5.155000    1\n",
      "5.186000    1\n",
      "5.272000    1\n",
      "5.277000    1\n",
      "5.304000    2\n",
      "5.344000    1\n",
      "5.349000    1\n",
      "5.362000    1\n",
      "5.390000    2\n",
      "5.399000    1\n",
      "5.403000    1\n",
      "           ..\n",
      "7.420000    1\n",
      "7.454000    1\n",
      "7.470000    1\n",
      "7.489000    1\n",
      "7.520000    1\n",
      "7.610000    1\n",
      "7.645000    1\n",
      "7.686000    1\n",
      "7.691000    1\n",
      "7.765000    1\n",
      "7.802000    1\n",
      "7.820000    2\n",
      "7.831000    1\n",
      "7.853000    1\n",
      "7.875000    1\n",
      "7.923000    1\n",
      "7.929000    1\n",
      "8.034000    1\n",
      "8.040000    1\n",
      "8.069000    1\n",
      "8.247000    1\n",
      "8.259000    1\n",
      "8.266000    1\n",
      "8.297000    1\n",
      "8.337000    1\n",
      "8.375000    1\n",
      "8.398000    1\n",
      "8.704000    1\n",
      "8.725000    1\n",
      "8.780000    1\n",
      "Name: RM, dtype: int64\n",
      "Percentages for RM\n"
     ]
    },
    {
     "data": {
      "text/plain": [
       "3.561000   0.001976\n",
       "3.863000   0.001976\n",
       "4.138000   0.003953\n",
       "4.368000   0.001976\n",
       "4.519000   0.001976\n",
       "4.628000   0.001976\n",
       "4.652000   0.001976\n",
       "4.880000   0.001976\n",
       "4.903000   0.001976\n",
       "4.906000   0.001976\n",
       "4.926000   0.001976\n",
       "4.963000   0.001976\n",
       "4.970000   0.001976\n",
       "4.973000   0.001976\n",
       "5.000000   0.001976\n",
       "5.012000   0.001976\n",
       "5.019000   0.001976\n",
       "5.036000   0.001976\n",
       "5.093000   0.001976\n",
       "5.155000   0.001976\n",
       "5.186000   0.001976\n",
       "5.272000   0.001976\n",
       "5.277000   0.001976\n",
       "5.304000   0.003953\n",
       "5.344000   0.001976\n",
       "5.349000   0.001976\n",
       "5.362000   0.001976\n",
       "5.390000   0.003953\n",
       "5.399000   0.001976\n",
       "5.403000   0.001976\n",
       "             ...   \n",
       "7.420000   0.001976\n",
       "7.454000   0.001976\n",
       "7.470000   0.001976\n",
       "7.489000   0.001976\n",
       "7.520000   0.001976\n",
       "7.610000   0.001976\n",
       "7.645000   0.001976\n",
       "7.686000   0.001976\n",
       "7.691000   0.001976\n",
       "7.765000   0.001976\n",
       "7.802000   0.001976\n",
       "7.820000   0.003953\n",
       "7.831000   0.001976\n",
       "7.853000   0.001976\n",
       "7.875000   0.001976\n",
       "7.923000   0.001976\n",
       "7.929000   0.001976\n",
       "8.034000   0.001976\n",
       "8.040000   0.001976\n",
       "8.069000   0.001976\n",
       "8.247000   0.001976\n",
       "8.259000   0.001976\n",
       "8.266000   0.001976\n",
       "8.297000   0.001976\n",
       "8.337000   0.001976\n",
       "8.375000   0.001976\n",
       "8.398000   0.001976\n",
       "8.704000   0.001976\n",
       "8.725000   0.001976\n",
       "8.780000   0.001976\n",
       "Name: RM, dtype: float64"
      ]
     },
     "execution_count": 14,
     "metadata": {},
     "output_type": "execute_result"
    }
   ],
   "source": [
    "# RM indicates average number of rooms per dwelling\n",
    "# RM should have positive correlation with  higher house value\n",
    "print data[\"RM\"].count()\n",
    "print \"\\n** Frequency ditribution of RM feature **\" \n",
    "print data[\"RM\"].value_counts(dropna='False').sort_index()\n",
    "\n",
    "print \"Percentages for RM\"\n",
    "data[\"RM\"].value_counts(normalize='True',dropna='False').sort_index()"
   ]
  },
  {
   "cell_type": "markdown",
   "metadata": {},
   "source": [
    "The variable \"RM\" has values spread between 3 and 9. I believe it would be more meaningful to consider a value rounded off to nearest integer. So introduced a manged variable RM_ABS"
   ]
  },
  {
   "cell_type": "code",
   "execution_count": 15,
   "metadata": {
    "collapsed": false
   },
   "outputs": [
    {
     "name": "stdout",
     "output_type": "stream",
     "text": [
      "\n",
      "** Frequency ditribution of RM_ABS feature **\n",
      "4      5\n",
      "5     37\n",
      "6    312\n",
      "7    125\n",
      "8     24\n",
      "9      3\n",
      "Name: RM_ABS, dtype: int64\n",
      "Percentages for RM_ABS\n"
     ]
    },
    {
     "data": {
      "text/plain": [
       "4   0.009881\n",
       "5   0.073123\n",
       "6   0.616601\n",
       "7   0.247036\n",
       "8   0.047431\n",
       "9   0.005929\n",
       "Name: RM_ABS, dtype: float64"
      ]
     },
     "execution_count": 15,
     "metadata": {},
     "output_type": "execute_result"
    }
   ],
   "source": [
    "# RM indicates average number of rooms per dwelling\n",
    "# RM should have positive correlation with  higher house value\n",
    "\n",
    "data[\"RM_ABS\"]=[int(round(x)) for x in data[\"RM\"]]\n",
    "print \"\\n** Frequency ditribution of RM_ABS feature **\" \n",
    "print data[\"RM_ABS\"].value_counts(dropna='False').sort_index()\n",
    "print \"Percentages for RM_ABS\"\n",
    "data[\"RM_ABS\"].value_counts(normalize='True',dropna='False').sort_index()"
   ]
  },
  {
   "cell_type": "code",
   "execution_count": 28,
   "metadata": {
    "collapsed": false
   },
   "outputs": [
    {
     "name": "stdout",
     "output_type": "stream",
     "text": [
      "\n",
      "** Frequency ditribution of AGE feature **\n",
      "100.000000    43\n",
      "87.900000      4\n",
      "96.000000      4\n",
      "98.200000      4\n",
      "97.900000      4\n",
      "98.800000      4\n",
      "95.400000      4\n",
      "96.200000      3\n",
      "32.200000      3\n",
      "21.400000      3\n",
      "97.000000      3\n",
      "94.100000      3\n",
      "76.500000      3\n",
      "95.600000      3\n",
      "97.400000      3\n",
      "36.600000      3\n",
      "92.600000      3\n",
      "88.000000      3\n",
      "98.900000      3\n",
      "97.300000      3\n",
      "58.700000      2\n",
      "91.800000      2\n",
      "98.100000      2\n",
      "59.700000      2\n",
      "95.000000      2\n",
      "27.700000      2\n",
      "87.300000      2\n",
      "31.900000      2\n",
      "94.700000      2\n",
      "95.300000      2\n",
      "              ..\n",
      "35.700000      1\n",
      "92.200000      1\n",
      "40.300000      1\n",
      "68.100000      1\n",
      "19.100000      1\n",
      "52.800000      1\n",
      "83.700000      1\n",
      "95.700000      1\n",
      "96.900000      1\n",
      "94.000000      1\n",
      "68.800000      1\n",
      "88.800000      1\n",
      "53.700000      1\n",
      "14.700000      1\n",
      "59.600000      1\n",
      "88.200000      1\n",
      "89.000000      1\n",
      "43.700000      1\n",
      "73.100000      1\n",
      "67.200000      1\n",
      "56.100000      1\n",
      "28.400000      1\n",
      "20.100000      1\n",
      "31.300000      1\n",
      "68.200000      1\n",
      "73.900000      1\n",
      "32.100000      1\n",
      "65.100000      1\n",
      "49.100000      1\n",
      "84.500000      1\n",
      "Name: AGE, dtype: int64\n",
      "\n",
      "** Percentages for AGE **\n",
      "100.000000   0.084980\n",
      "87.900000    0.007905\n",
      "96.000000    0.007905\n",
      "98.200000    0.007905\n",
      "97.900000    0.007905\n",
      "98.800000    0.007905\n",
      "95.400000    0.007905\n",
      "96.200000    0.005929\n",
      "32.200000    0.005929\n",
      "21.400000    0.005929\n",
      "97.000000    0.005929\n",
      "94.100000    0.005929\n",
      "76.500000    0.005929\n",
      "95.600000    0.005929\n",
      "97.400000    0.005929\n",
      "36.600000    0.005929\n",
      "92.600000    0.005929\n",
      "88.000000    0.005929\n",
      "98.900000    0.005929\n",
      "97.300000    0.005929\n",
      "58.700000    0.003953\n",
      "91.800000    0.003953\n",
      "98.100000    0.003953\n",
      "59.700000    0.003953\n",
      "95.000000    0.003953\n",
      "27.700000    0.003953\n",
      "87.300000    0.003953\n",
      "31.900000    0.003953\n",
      "94.700000    0.003953\n",
      "95.300000    0.003953\n",
      "               ...   \n",
      "35.700000    0.001976\n",
      "92.200000    0.001976\n",
      "40.300000    0.001976\n",
      "68.100000    0.001976\n",
      "19.100000    0.001976\n",
      "52.800000    0.001976\n",
      "83.700000    0.001976\n",
      "95.700000    0.001976\n",
      "96.900000    0.001976\n",
      "94.000000    0.001976\n",
      "68.800000    0.001976\n",
      "88.800000    0.001976\n",
      "53.700000    0.001976\n",
      "14.700000    0.001976\n",
      "59.600000    0.001976\n",
      "88.200000    0.001976\n",
      "89.000000    0.001976\n",
      "43.700000    0.001976\n",
      "73.100000    0.001976\n",
      "67.200000    0.001976\n",
      "56.100000    0.001976\n",
      "28.400000    0.001976\n",
      "20.100000    0.001976\n",
      "31.300000    0.001976\n",
      "68.200000    0.001976\n",
      "73.900000    0.001976\n",
      "32.100000    0.001976\n",
      "65.100000    0.001976\n",
      "49.100000    0.001976\n",
      "84.500000    0.001976\n",
      "Name: AGE, dtype: float64\n",
      "\n",
      "** Frequency ditribution of AGE_GRP derived feature **\n",
      "very-old        262\n",
      "modern           98\n",
      "old              97\n",
      "ultra-modern     49\n",
      "dtype: int64\n",
      "\n",
      "** Percentages for AGE_GRP **\n",
      "very-old       0.517787\n",
      "modern         0.193676\n",
      "old            0.191700\n",
      "ultra-modern   0.096838\n",
      "dtype: float64\n"
     ]
    },
    {
     "data": {
      "image/png": "[encoded data removed]",
      "text/plain": [
       "<matplotlib.figure.Figure at 0xb1809d0>"
      ]
     },
     "metadata": {},
     "output_type": "display_data"
    }
   ],
   "source": [
    "# print data.shape\n",
    "\n",
    "#Frequency ditribution of \"AGE\"  feature\n",
    "print \"\\n** Frequency ditribution of AGE feature **\"\n",
    "print data[\"AGE\"].value_counts()\n",
    "\n",
    "print \"\\n** Percentages for AGE **\"\n",
    "# percentage Frequency ditribution of \"AGE\" feature\n",
    "print data[\"AGE\"].value_counts(normalize='True',dropna='False')\n",
    "data [\"AGE\"].plot.hist()\n",
    "\n",
    "\n",
    "# Create bins for AGE variable - converting continuous variable ranges into bins\n",
    "bins=[0,25,50,75,100]\n",
    "age_grp=[\"ultra-modern\",\"modern\",\"old\",\"very-old\"]\n",
    "\n",
    "'''\n",
    "e.g. rows with AGE >0 and AGE <25  refer to colonies,\n",
    "     where % of the houses built prior 1940 is at max 25 % .\n",
    "     Hence such rows are put into \"ultra-modern\" bucket \n",
    "\n",
    "'''\n",
    "\n",
    "data[\"AGE_GRP\"] = pd.cut(data['AGE'], bins, labels=age_grp)\n",
    "#Frequency ditribution of \"AGE_GRP\" derived feature\n",
    "print \"\\n** Frequency ditribution of AGE_GRP derived feature **\"\n",
    "print data[\"AGE_GRP\"].value_counts()\n",
    "\n",
    "print \"\\n** Percentages for AGE_GRP **\"\n",
    "# percentage Frequency ditribution of \"AGE_GRP\" derived feature\n",
    "print data[\"AGE_GRP\"].value_counts(normalize='True',sort='True',dropna='False')\n",
    "\n",
    "\n",
    "\n"
   ]
  },
  {
   "cell_type": "code",
   "execution_count": 17,
   "metadata": {
    "collapsed": false
   },
   "outputs": [
    {
     "data": {
      "text/plain": [
       "<matplotlib.axes._subplots.AxesSubplot at 0x8cc6c30>"
      ]
     },
     "execution_count": 17,
     "metadata": {},
     "output_type": "execute_result"
    },
    {
     "name": "stderr",
     "output_type": "stream",
     "text": [
      "C:\\Users\\212458098\\AppData\\Local\\Continuum\\Anaconda\\lib\\site-packages\\matplotlib\\collections.py:590: FutureWarning: elementwise comparison failed; returning scalar instead, but in the future will perform elementwise comparison\n",
      "  if self._edgecolors == str('face'):\n"
     ]
    },
    {
     "data": {
      "image/png": "[encoded data removed]",
      "text/plain": [
       "<matplotlib.figure.Figure at 0x87dc3f0>"
      ]
     },
     "metadata": {},
     "output_type": "display_data"
    }
   ],
   "source": [
    "data.plot.scatter(\"PTRATIO\",\"MEDV\")"
   ]
  },
  {
   "cell_type": "code",
   "execution_count": 31,
   "metadata": {
    "collapsed": false
   },
   "outputs": [
    {
     "name": "stdout",
     "output_type": "stream",
     "text": [
      "AGE           2.900000    6.000000    6.200000    6.500000    6.600000    \\\n",
      "AGE_GRP                                                                    \n",
      "ultra-modern           1           1           1           1           2   \n",
      "modern                 0           0           0           0           0   \n",
      "old                    0           0           0           0           0   \n",
      "very-old               0           0           0           0           0   \n",
      "\n",
      "AGE           6.800000    7.800000    8.400000    8.900000    9.800000    \\\n",
      "AGE_GRP                                                                    \n",
      "ultra-modern           1           2           1           1           1   \n",
      "modern                 0           0           0           0           0   \n",
      "old                    0           0           0           0           0   \n",
      "very-old               0           0           0           0           0   \n",
      "\n",
      "AGE              ...      98.200000   98.300000   98.400000   98.500000   \\\n",
      "AGE_GRP          ...                                                       \n",
      "ultra-modern     ...               0           0           0           0   \n",
      "modern           ...               0           0           0           0   \n",
      "old              ...               0           0           0           0   \n",
      "very-old         ...               4           2           2           1   \n",
      "\n",
      "AGE           98.700000   98.800000   98.900000   99.100000   99.300000   \\\n",
      "AGE_GRP                                                                    \n",
      "ultra-modern           0           0           0           0           0   \n",
      "modern                 0           0           0           0           0   \n",
      "old                    0           0           0           0           0   \n",
      "very-old               1           4           3           1           1   \n",
      "\n",
      "AGE           100.000000  \n",
      "AGE_GRP                   \n",
      "ultra-modern           0  \n",
      "modern                 0  \n",
      "old                    0  \n",
      "very-old              43  \n",
      "\n",
      "[4 rows x 356 columns]\n"
     ]
    }
   ],
   "source": [
    "print (pd.crosstab(data['AGE_GRP'], data['AGE']))"
   ]
  },
  {
   "cell_type": "code",
   "execution_count": 18,
   "metadata": {
    "collapsed": false
   },
   "outputs": [
    {
     "data": {
      "text/plain": [
       "<matplotlib.axes._subplots.AxesSubplot at 0x8ba1c10>"
      ]
     },
     "execution_count": 18,
     "metadata": {},
     "output_type": "execute_result"
    },
    {
     "data": {
      "image/png": "[encoded data removed]",
      "text/plain": [
       "<matplotlib.figure.Figure at 0x8d3e590>"
      ]
     },
     "metadata": {},
     "output_type": "display_data"
    }
   ],
   "source": [
    "data[\"PTRATIO\"].plot.hist()"
   ]
  },
  {
   "cell_type": "code",
   "execution_count": 19,
   "metadata": {
    "collapsed": false,
    "scrolled": false
   },
   "outputs": [
    {
     "name": "stdout",
     "output_type": "stream",
     "text": [
      "\n",
      "** Frequency ditribution of PT_RATIO_ABS derived feature **\n",
      "12      3\n",
      "13     13\n",
      "14     42\n",
      "15     22\n",
      "16     41\n",
      "17     64\n",
      "18     64\n",
      "19     56\n",
      "20    156\n",
      "21     43\n",
      "22      2\n",
      "Name: PTRATIO_ABS, dtype: int64\n",
      "Percentages for PTRATIO_ABS\n"
     ]
    },
    {
     "data": {
      "text/plain": [
       "12   0.005929\n",
       "13   0.025692\n",
       "14   0.083004\n",
       "15   0.043478\n",
       "16   0.081028\n",
       "17   0.126482\n",
       "18   0.126482\n",
       "19   0.110672\n",
       "20   0.308300\n",
       "21   0.084980\n",
       "22   0.003953\n",
       "Name: PTRATIO_ABS, dtype: float64"
      ]
     },
     "execution_count": 19,
     "metadata": {},
     "output_type": "execute_result"
    },
    {
     "data": {
      "image/png": "[encoded data removed]",
      "text/plain": [
       "<matplotlib.figure.Figure at 0x8d3ebf0>"
      ]
     },
     "metadata": {},
     "output_type": "display_data"
    }
   ],
   "source": [
    "# PTRATIO refers to pupil - Teacher ratio . The lower it is, the better education is.\n",
    "# i.e. parents who can afford, prefer lower PTRATIO \n",
    "# and hence houses in such areas might be expensive\n",
    "\n",
    "# Convert PTRATIO to integer values and save to PTRATIO_ABS \n",
    "data[\"PTRATIO_ABS\"]=data[\"PTRATIO\"].astype(int)\n",
    "data[\"PTRATIO_ABS\"].plot.hist()\n",
    "print \"\\n** Frequency ditribution of PT_RATIO_ABS derived feature **\" \n",
    "print data[\"PTRATIO_ABS\"].value_counts(dropna='False').sort_index()\n",
    "print \"Percentages for PTRATIO_ABS\"\n",
    "data[\"PTRATIO_ABS\"].value_counts(normalize='True',dropna='False').sort_index()"
   ]
  },
  {
   "cell_type": "code",
   "execution_count": 20,
   "metadata": {
    "collapsed": false
   },
   "outputs": [
    {
     "name": "stdout",
     "output_type": "stream",
     "text": [
      "1      3\n",
      "2      7\n",
      "3     23\n",
      "4     29\n",
      "5     32\n",
      "6     33\n",
      "7     32\n",
      "8     24\n",
      "9     36\n",
      "10    27\n",
      "11    20\n",
      "12    26\n",
      "13    24\n",
      "14    28\n",
      "15    17\n",
      "16    19\n",
      "17    21\n",
      "18    21\n",
      "19    10\n",
      "20     7\n",
      "21    11\n",
      "22     5\n",
      "23    11\n",
      "24     6\n",
      "25     3\n",
      "26     6\n",
      "27     4\n",
      "28     2\n",
      "29     7\n",
      "30     5\n",
      "31     1\n",
      "34     4\n",
      "36     1\n",
      "37     1\n",
      "Name: LSTAT_ABS, dtype: int64\n"
     ]
    },
    {
     "data": {
      "text/plain": [
       "1    0.005929\n",
       "2    0.013834\n",
       "3    0.045455\n",
       "4    0.057312\n",
       "5    0.063241\n",
       "6    0.065217\n",
       "7    0.063241\n",
       "8    0.047431\n",
       "9    0.071146\n",
       "10   0.053360\n",
       "11   0.039526\n",
       "12   0.051383\n",
       "13   0.047431\n",
       "14   0.055336\n",
       "15   0.033597\n",
       "16   0.037549\n",
       "17   0.041502\n",
       "18   0.041502\n",
       "19   0.019763\n",
       "20   0.013834\n",
       "21   0.021739\n",
       "22   0.009881\n",
       "23   0.021739\n",
       "24   0.011858\n",
       "25   0.005929\n",
       "26   0.011858\n",
       "27   0.007905\n",
       "28   0.003953\n",
       "29   0.013834\n",
       "30   0.009881\n",
       "31   0.001976\n",
       "34   0.007905\n",
       "36   0.001976\n",
       "37   0.001976\n",
       "Name: LSTAT_ABS, dtype: float64"
      ]
     },
     "execution_count": 20,
     "metadata": {},
     "output_type": "execute_result"
    }
   ],
   "source": [
    "'''\n",
    "LSTAT refers to  % lower status of the population\n",
    "The more LSTAT is the less the house value should be, in general\n",
    "'''\n",
    "# Convert LSTAT to integer values and save to LSTAT_ABS \n",
    "data[\"LSTAT_ABS\"]=data[\"LSTAT\"].astype(int)\n",
    "\n",
    "print data[\"LSTAT_ABS\"].value_counts(dropna='False').sort_index()\n",
    "data[\"LSTAT_ABS\"].value_counts(normalize='True',dropna='False').sort_index()"
   ]
  },
  {
   "cell_type": "code",
   "execution_count": 21,
   "metadata": {
    "collapsed": false
   },
   "outputs": [
    {
     "data": {
      "text/plain": [
       "<matplotlib.axes._subplots.AxesSubplot at 0x8e52050>"
      ]
     },
     "execution_count": 21,
     "metadata": {},
     "output_type": "execute_result"
    },
    {
     "data": {
      "image/png": "[encoded data removed]",
      "text/plain": [
       "<matplotlib.figure.Figure at 0x8e5c390>"
      ]
     },
     "metadata": {},
     "output_type": "display_data"
    }
   ],
   "source": [
    "data[\"LSTAT_ABS\"].plot.hist()"
   ]
  },
  {
   "cell_type": "code",
   "execution_count": 34,
   "metadata": {
    "collapsed": false
   },
   "outputs": [
    {
     "name": "stdout",
     "output_type": "stream",
     "text": [
      "(506, 15)\n",
      "\n",
      "** Frequency ditribution of LSTAT_GRP derived feature **\n",
      "lt_10       219\n",
      "10_to_20    213\n",
      "20_to_30     62\n",
      "gt_30        12\n",
      "dtype: int64\n",
      "\n",
      "** Percentage of LSTAT_GRP derived feature **\n",
      "lt_10      0.432806\n",
      "10_to_20   0.420949\n",
      "20_to_30   0.122530\n",
      "gt_30      0.023715\n",
      "dtype: float64\n"
     ]
    },
    {
     "data": {
      "text/html": [
       "<div>\n",
       "<table border=\"1\" class=\"dataframe\">\n",
       "  <thead>\n",
       "    <tr style=\"text-align: right;\">\n",
       "      <th></th>\n",
       "      <th>CRIM</th>\n",
       "      <th>ZN</th>\n",
       "      <th>INDUS</th>\n",
       "      <th>CHAS</th>\n",
       "      <th>NOX</th>\n",
       "      <th>RM</th>\n",
       "      <th>AGE</th>\n",
       "      <th>DIS</th>\n",
       "      <th>RAD</th>\n",
       "      <th>TAX</th>\n",
       "      <th>PTRATIO</th>\n",
       "      <th>B</th>\n",
       "      <th>LSTAT</th>\n",
       "      <th>MEDV</th>\n",
       "      <th>AGE_GRP</th>\n",
       "      <th>LSTAT_GRP</th>\n",
       "    </tr>\n",
       "  </thead>\n",
       "  <tbody>\n",
       "    <tr>\n",
       "      <th>0</th>\n",
       "      <td>0.006320</td>\n",
       "      <td>18.000000</td>\n",
       "      <td>2.310000</td>\n",
       "      <td>0</td>\n",
       "      <td>0.538000</td>\n",
       "      <td>6.575000</td>\n",
       "      <td>65.200000</td>\n",
       "      <td>4.090000</td>\n",
       "      <td>1</td>\n",
       "      <td>296</td>\n",
       "      <td>15.300000</td>\n",
       "      <td>396.900000</td>\n",
       "      <td>4.980000</td>\n",
       "      <td>24.000000</td>\n",
       "      <td>old</td>\n",
       "      <td>lt_10</td>\n",
       "    </tr>\n",
       "    <tr>\n",
       "      <th>1</th>\n",
       "      <td>0.027310</td>\n",
       "      <td>0.000000</td>\n",
       "      <td>7.070000</td>\n",
       "      <td>0</td>\n",
       "      <td>0.469000</td>\n",
       "      <td>6.421000</td>\n",
       "      <td>78.900000</td>\n",
       "      <td>4.967100</td>\n",
       "      <td>2</td>\n",
       "      <td>242</td>\n",
       "      <td>17.800000</td>\n",
       "      <td>396.900000</td>\n",
       "      <td>9.140000</td>\n",
       "      <td>21.600000</td>\n",
       "      <td>very-old</td>\n",
       "      <td>lt_10</td>\n",
       "    </tr>\n",
       "    <tr>\n",
       "      <th>2</th>\n",
       "      <td>0.027290</td>\n",
       "      <td>0.000000</td>\n",
       "      <td>7.070000</td>\n",
       "      <td>0</td>\n",
       "      <td>0.469000</td>\n",
       "      <td>7.185000</td>\n",
       "      <td>61.100000</td>\n",
       "      <td>4.967100</td>\n",
       "      <td>2</td>\n",
       "      <td>242</td>\n",
       "      <td>17.800000</td>\n",
       "      <td>392.830000</td>\n",
       "      <td>4.030000</td>\n",
       "      <td>34.700000</td>\n",
       "      <td>old</td>\n",
       "      <td>lt_10</td>\n",
       "    </tr>\n",
       "    <tr>\n",
       "      <th>3</th>\n",
       "      <td>0.032370</td>\n",
       "      <td>0.000000</td>\n",
       "      <td>2.180000</td>\n",
       "      <td>0</td>\n",
       "      <td>0.458000</td>\n",
       "      <td>6.998000</td>\n",
       "      <td>45.800000</td>\n",
       "      <td>6.062200</td>\n",
       "      <td>3</td>\n",
       "      <td>222</td>\n",
       "      <td>18.700000</td>\n",
       "      <td>394.630000</td>\n",
       "      <td>2.940000</td>\n",
       "      <td>33.400000</td>\n",
       "      <td>modern</td>\n",
       "      <td>lt_10</td>\n",
       "    </tr>\n",
       "    <tr>\n",
       "      <th>4</th>\n",
       "      <td>0.069050</td>\n",
       "      <td>0.000000</td>\n",
       "      <td>2.180000</td>\n",
       "      <td>0</td>\n",
       "      <td>0.458000</td>\n",
       "      <td>7.147000</td>\n",
       "      <td>54.200000</td>\n",
       "      <td>6.062200</td>\n",
       "      <td>3</td>\n",
       "      <td>222</td>\n",
       "      <td>18.700000</td>\n",
       "      <td>396.900000</td>\n",
       "      <td>5.330000</td>\n",
       "      <td>36.200000</td>\n",
       "      <td>old</td>\n",
       "      <td>lt_10</td>\n",
       "    </tr>\n",
       "    <tr>\n",
       "      <th>5</th>\n",
       "      <td>0.029850</td>\n",
       "      <td>0.000000</td>\n",
       "      <td>2.180000</td>\n",
       "      <td>0</td>\n",
       "      <td>0.458000</td>\n",
       "      <td>6.430000</td>\n",
       "      <td>58.700000</td>\n",
       "      <td>6.062200</td>\n",
       "      <td>3</td>\n",
       "      <td>222</td>\n",
       "      <td>18.700000</td>\n",
       "      <td>394.120000</td>\n",
       "      <td>5.210000</td>\n",
       "      <td>28.700000</td>\n",
       "      <td>old</td>\n",
       "      <td>lt_10</td>\n",
       "    </tr>\n",
       "    <tr>\n",
       "      <th>6</th>\n",
       "      <td>0.088290</td>\n",
       "      <td>12.500000</td>\n",
       "      <td>7.870000</td>\n",
       "      <td>0</td>\n",
       "      <td>0.524000</td>\n",
       "      <td>6.012000</td>\n",
       "      <td>66.600000</td>\n",
       "      <td>5.560500</td>\n",
       "      <td>5</td>\n",
       "      <td>311</td>\n",
       "      <td>15.200000</td>\n",
       "      <td>395.600000</td>\n",
       "      <td>12.430000</td>\n",
       "      <td>22.900000</td>\n",
       "      <td>old</td>\n",
       "      <td>10_to_20</td>\n",
       "    </tr>\n",
       "    <tr>\n",
       "      <th>7</th>\n",
       "      <td>0.144550</td>\n",
       "      <td>12.500000</td>\n",
       "      <td>7.870000</td>\n",
       "      <td>0</td>\n",
       "      <td>0.524000</td>\n",
       "      <td>6.172000</td>\n",
       "      <td>96.100000</td>\n",
       "      <td>5.950500</td>\n",
       "      <td>5</td>\n",
       "      <td>311</td>\n",
       "      <td>15.200000</td>\n",
       "      <td>396.900000</td>\n",
       "      <td>19.150000</td>\n",
       "      <td>27.100000</td>\n",
       "      <td>very-old</td>\n",
       "      <td>10_to_20</td>\n",
       "    </tr>\n",
       "    <tr>\n",
       "      <th>8</th>\n",
       "      <td>0.211240</td>\n",
       "      <td>12.500000</td>\n",
       "      <td>7.870000</td>\n",
       "      <td>0</td>\n",
       "      <td>0.524000</td>\n",
       "      <td>5.631000</td>\n",
       "      <td>100.000000</td>\n",
       "      <td>6.082100</td>\n",
       "      <td>5</td>\n",
       "      <td>311</td>\n",
       "      <td>15.200000</td>\n",
       "      <td>386.630000</td>\n",
       "      <td>29.930000</td>\n",
       "      <td>16.500000</td>\n",
       "      <td>very-old</td>\n",
       "      <td>20_to_30</td>\n",
       "    </tr>\n",
       "    <tr>\n",
       "      <th>9</th>\n",
       "      <td>0.170040</td>\n",
       "      <td>12.500000</td>\n",
       "      <td>7.870000</td>\n",
       "      <td>0</td>\n",
       "      <td>0.524000</td>\n",
       "      <td>6.004000</td>\n",
       "      <td>85.900000</td>\n",
       "      <td>6.592100</td>\n",
       "      <td>5</td>\n",
       "      <td>311</td>\n",
       "      <td>15.200000</td>\n",
       "      <td>386.710000</td>\n",
       "      <td>17.100000</td>\n",
       "      <td>18.900000</td>\n",
       "      <td>very-old</td>\n",
       "      <td>10_to_20</td>\n",
       "    </tr>\n",
       "  </tbody>\n",
       "</table>\n",
       "</div>"
      ],
      "text/plain": [
       "      CRIM        ZN    INDUS  CHAS      NOX       RM        AGE      DIS  \\\n",
       "0 0.006320 18.000000 2.310000     0 0.538000 6.575000  65.200000 4.090000   \n",
       "1 0.027310  0.000000 7.070000     0 0.469000 6.421000  78.900000 4.967100   \n",
       "2 0.027290  0.000000 7.070000     0 0.469000 7.185000  61.100000 4.967100   \n",
       "3 0.032370  0.000000 2.180000     0 0.458000 6.998000  45.800000 6.062200   \n",
       "4 0.069050  0.000000 2.180000     0 0.458000 7.147000  54.200000 6.062200   \n",
       "5 0.029850  0.000000 2.180000     0 0.458000 6.430000  58.700000 6.062200   \n",
       "6 0.088290 12.500000 7.870000     0 0.524000 6.012000  66.600000 5.560500   \n",
       "7 0.144550 12.500000 7.870000     0 0.524000 6.172000  96.100000 5.950500   \n",
       "8 0.211240 12.500000 7.870000     0 0.524000 5.631000 100.000000 6.082100   \n",
       "9 0.170040 12.500000 7.870000     0 0.524000 6.004000  85.900000 6.592100   \n",
       "\n",
       "   RAD  TAX   PTRATIO          B     LSTAT      MEDV   AGE_GRP LSTAT_GRP  \n",
       "0    1  296 15.300000 396.900000  4.980000 24.000000       old     lt_10  \n",
       "1    2  242 17.800000 396.900000  9.140000 21.600000  very-old     lt_10  \n",
       "2    2  242 17.800000 392.830000  4.030000 34.700000       old     lt_10  \n",
       "3    3  222 18.700000 394.630000  2.940000 33.400000    modern     lt_10  \n",
       "4    3  222 18.700000 396.900000  5.330000 36.200000       old     lt_10  \n",
       "5    3  222 18.700000 394.120000  5.210000 28.700000       old     lt_10  \n",
       "6    5  311 15.200000 395.600000 12.430000 22.900000       old  10_to_20  \n",
       "7    5  311 15.200000 396.900000 19.150000 27.100000  very-old  10_to_20  \n",
       "8    5  311 15.200000 386.630000 29.930000 16.500000  very-old  20_to_30  \n",
       "9    5  311 15.200000 386.710000 17.100000 18.900000  very-old  10_to_20  "
      ]
     },
     "execution_count": 34,
     "metadata": {},
     "output_type": "execute_result"
    }
   ],
   "source": [
    "# Create bins for LSTAT variable\n",
    "print data.shape\n",
    "bins=[0,10,20,30,100]\n",
    "lstat_grp=[\"lt_10\",\"10_to_20\",\"20_to_30\",\"gt_30\"]\n",
    "\n",
    "\n",
    "# categories = pd.cut(df['Age'], bins, labels=lstat_grp)\n",
    "data[\"LSTAT_GRP\"] = pd.cut(data['LSTAT'], bins, labels=lstat_grp)\n",
    "print \"\\n** Frequency ditribution of LSTAT_GRP derived feature **\" \n",
    "print data[\"LSTAT_GRP\"].value_counts()\n",
    "print \"\\n** Percentage of LSTAT_GRP derived feature **\" \n",
    "print data[\"LSTAT_GRP\"].value_counts(normalize='True',sort='True',dropna='False')\n",
    "data.head(10)"
   ]
  },
  {
   "cell_type": "code",
   "execution_count": 35,
   "metadata": {
    "collapsed": false
   },
   "outputs": [
    {
     "name": "stdout",
     "output_type": "stream",
     "text": [
      "LSTAT      1.730000   1.920000   1.980000   2.470000   2.870000   2.880000   \\\n",
      "LSTAT_GRP                                                                     \n",
      "lt_10              1          1          1          1          1          1   \n",
      "10_to_20           0          0          0          0          0          0   \n",
      "20_to_30           0          0          0          0          0          0   \n",
      "gt_30              0          0          0          0          0          0   \n",
      "\n",
      "LSTAT      2.940000   2.960000   2.970000   2.980000     ...      30.620000  \\\n",
      "LSTAT_GRP                                                ...                  \n",
      "lt_10              1          1          1          1    ...              0   \n",
      "10_to_20           0          0          0          0    ...              0   \n",
      "20_to_30           0          0          0          0    ...              0   \n",
      "gt_30              0          0          0          0    ...              1   \n",
      "\n",
      "LSTAT      30.630000  30.810000  31.990000  34.020000  34.370000  34.410000  \\\n",
      "LSTAT_GRP                                                                     \n",
      "lt_10              0          0          0          0          0          0   \n",
      "10_to_20           0          0          0          0          0          0   \n",
      "20_to_30           0          0          0          0          0          0   \n",
      "gt_30              1          2          1          1          1          1   \n",
      "\n",
      "LSTAT      34.770000  36.980000  37.970000  \n",
      "LSTAT_GRP                                   \n",
      "lt_10              0          0          0  \n",
      "10_to_20           0          0          0  \n",
      "20_to_30           0          0          0  \n",
      "gt_30              1          1          1  \n",
      "\n",
      "[4 rows x 455 columns]\n"
     ]
    }
   ],
   "source": [
    "print (pd.crosstab(data['LSTAT_GRP'], data['LSTAT']))"
   ]
  }
 ],
 "metadata": {
  "kernelspec": {
   "display_name": "Python 2",
   "language": "python",
   "name": "python2"
  },
  "language_info": {
   "codemirror_mode": {
    "name": "ipython",
    "version": 2
   },
   "file_extension": ".py",
   "mimetype": "text/x-python",
   "name": "python",
   "nbconvert_exporter": "python",
   "pygments_lexer": "ipython2",
   "version": "2.7.11"
  }
 },
 "nbformat": 4,
 "nbformat_minor": 0
}
